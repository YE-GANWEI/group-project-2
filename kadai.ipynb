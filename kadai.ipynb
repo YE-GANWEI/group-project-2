{
  "nbformat": 4,
  "nbformat_minor": 0,
  "metadata": {
    "colab": {
      "name": "kadai.ipynb",
      "provenance": [],
      "collapsed_sections": []
    },
    "kernelspec": {
      "name": "python3",
      "display_name": "Python 3"
    }
  },
  "cells": [
    {
      "cell_type": "markdown",
      "metadata": {
        "id": "QR2XitNu7SgY",
        "colab_type": "text"
      },
      "source": [
        "#ハングマン\n",
        "![フローチャート](http://a1.qpic.cn/psc?/V10LOwxy1o7r6C/wZu0*zqyEz4NDRuTFUPfB*9sDYBEVxXxApXBPRiokBHXUyXgjH282y75fAzo*xW2ydcoIW5aCTyhvcIDEvRPSQ!!/c&ek=1&kp=1&pt=0&bo=2gRZBdoEWQURGS4!&tl=3&vuin=1084585996&tm=1580295600&sce=60-2-2&rf=0-0)\n",
        "\n",
        "1.出題者から出題する。"
      ]
    },
    {
      "cell_type": "code",
      "metadata": {
        "id": "wYSCvxIvsmPR",
        "colab_type": "code",
        "outputId": "ed8dde96-76a2-4d5b-ac38-9f00590f5f7c",
        "colab": {
          "base_uri": "https://localhost:8080/",
          "height": 34
        }
      },
      "source": [
        "ti = input(prompt='単語を入力してください',)"
      ],
      "execution_count": 0,
      "outputs": [
        {
          "output_type": "stream",
          "text": [
            "単語を入力してくださいfor\n"
          ],
          "name": "stdout"
        }
      ]
    },
    {
      "cell_type": "markdown",
      "metadata": {
        "id": "dw6YBPI-7vde",
        "colab_type": "text"
      },
      "source": [
        "単語の文字数を表す下線を引く。"
      ]
    },
    {
      "cell_type": "code",
      "metadata": {
        "id": "7NrEHT37wnRQ",
        "colab_type": "code",
        "outputId": "224d5974-8932-49f0-a281-59af22184b48",
        "colab": {
          "base_uri": "https://localhost:8080/",
          "height": 34
        }
      },
      "source": [
        "chang=len(ti)\n",
        "chang_a=\"_\"*chang\n",
        "print(chang_a)"
      ],
      "execution_count": 0,
      "outputs": [
        {
          "output_type": "stream",
          "text": [
            "___\n"
          ],
          "name": "stdout"
        }
      ]
    },
    {
      "cell_type": "markdown",
      "metadata": {
        "id": "k8Zt4TAN8Hf5",
        "colab_type": "text"
      },
      "source": [
        "答えリストを生成する。"
      ]
    },
    {
      "cell_type": "code",
      "metadata": {
        "id": "I9KzoUPl1bn0",
        "colab_type": "code",
        "outputId": "efa84fe5-beb1-4077-ba14-9d364ee5c31d",
        "colab": {
          "base_uri": "https://localhost:8080/",
          "height": 34
        }
      },
      "source": [
        "ti_list=[]\n",
        "for x in ti:\n",
        "  ti_list.append(x)\n",
        "print(ti_list)"
      ],
      "execution_count": 0,
      "outputs": [
        {
          "output_type": "stream",
          "text": [
            "['f', 'o', 'r']\n"
          ],
          "name": "stdout"
        }
      ]
    },
    {
      "cell_type": "markdown",
      "metadata": {
        "id": "3MiBTa5d8mwA",
        "colab_type": "text"
      },
      "source": [
        "タイトルリストを生成する。"
      ]
    },
    {
      "cell_type": "code",
      "metadata": {
        "id": "CAoHnF9_36Me",
        "colab_type": "code",
        "outputId": "f30fbfbb-9b38-462f-f494-19deaa711cba",
        "colab": {
          "base_uri": "https://localhost:8080/",
          "height": 34
        }
      },
      "source": [
        "chang_list=[]\n",
        "for y in chang_a:\n",
        "  chang_list.append(y)\n",
        "print(chang_list)"
      ],
      "execution_count": 0,
      "outputs": [
        {
          "output_type": "stream",
          "text": [
            "['_', '_', '_']\n"
          ],
          "name": "stdout"
        }
      ]
    },
    {
      "cell_type": "markdown",
      "metadata": {
        "id": "z43rtmYfDVCz",
        "colab_type": "text"
      },
      "source": [
        "出題者は絞首刑台を描く準備する。"
      ]
    },
    {
      "cell_type": "code",
      "metadata": {
        "id": "keFDmz0IDv5U",
        "colab_type": "code",
        "colab": {}
      },
      "source": [
        "jiao=12\n",
        "kaishi=0\n",
        "def jianyi(a):\n",
        "  kaishi=a+1\n",
        "  return(a+1)"
      ],
      "execution_count": 0,
      "outputs": []
    },
    {
      "cell_type": "markdown",
      "metadata": {
        "id": "1yk_dhTK605Z",
        "colab_type": "text"
      },
      "source": [
        "2.解答者がクイズを解く"
      ]
    },
    {
      "cell_type": "code",
      "metadata": {
        "id": "nQMA8oE75FBq",
        "colab_type": "code",
        "outputId": "ac03ccf1-f2fc-40d3-f4b1-8e3d50d1fb19",
        "colab": {
          "base_uri": "https://localhost:8080/",
          "height": 34
        }
      },
      "source": [
        "caiti=input(prompt='文字(英語)を入力してください',)"
      ],
      "execution_count": 0,
      "outputs": [
        {
          "output_type": "stream",
          "text": [
            "文字(英語)を入力してくださいr\n"
          ],
          "name": "stdout"
        }
      ]
    },
    {
      "cell_type": "markdown",
      "metadata": {
        "id": "Y2ZW06zdAiac",
        "colab_type": "text"
      },
      "source": [
        "3.この文字がタイトルに存在するかどうかを判断する。"
      ]
    },
    {
      "cell_type": "code",
      "metadata": {
        "id": "zg6YUIjP5-q6",
        "colab_type": "code",
        "outputId": "b73b57f0-ea44-41c0-b13d-07c254f4c379",
        "colab": {
          "base_uri": "https://localhost:8080/",
          "height": 68
        }
      },
      "source": [
        "\n",
        "if kaishi < jiao:\n",
        "  if caiti in ti_list:\n",
        "    if chang_list == ti_list:\n",
        "      print(\"勝った\")\n",
        "    for index,value in enumerate(ti_list):\n",
        "      if value==caiti:\n",
        "        chang_list[index]=caiti\n",
        "        print (chang_list)\n",
        "        print(kaishi,\"まだ\",jiao-kaishi,\"回のチャンスがある\")\n",
        "  else:\n",
        "    kaishi=jianyi(kaishi)\n",
        "    print(\"×\")\n",
        "    print(chang_list)\n",
        "    print(kaishi,\"まだ\",jiao-kaishi,\"回のチャンスがある\")\n",
        "elif kaishi==jiao:\n",
        "  print(\"負けた\")\n",
        "  print(chang_list)\n",
        "  print(ti_list)\n",
        "else:\n",
        "  print(\"間違いがあります。\")\n"
      ],
      "execution_count": 0,
      "outputs": [
        {
          "output_type": "stream",
          "text": [
            "勝った\n",
            "['f', 'o', 'r']\n",
            "1 まだ 11 回のチャンスがある\n"
          ],
          "name": "stdout"
        }
      ]
    },
    {
      "cell_type": "markdown",
      "metadata": {
        "id": "Li8DFvZxMBgM",
        "colab_type": "text"
      },
      "source": [
        "4.勝敗が決まるまで2.3.を繰り返す。"
      ]
    }
  ]
}