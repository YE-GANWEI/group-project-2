{
  "nbformat": 4,
  "nbformat_minor": 0,
  "metadata": {
    "colab": {
      "name": "Yehzuoye.ipynb",
      "provenance": [],
      "collapsed_sections": [],
      "include_colab_link": true
    },
    "kernelspec": {
      "name": "python3",
      "display_name": "Python 3"
    }
  },
  "cells": [
    {
      "cell_type": "markdown",
      "metadata": {
        "id": "view-in-github",
        "colab_type": "text"
      },
      "source": [
        "<a href=\"https://colab.research.google.com/github/YE-GANWEI/group-project-2/blob/master/kuizu.ipynb\" target=\"_parent\"><img src=\"https://colab.research.google.com/assets/colab-badge.svg\" alt=\"Open In Colab\"/></a>"
      ]
    },
    {
      "cell_type": "markdown",
      "metadata": {
        "id": "QR2XitNu7SgY",
        "colab_type": "text"
      },
      "source": [
        "#ハングマン\n",
        "1.出題者から出題する。"
      ]
    },
    {
      "cell_type": "code",
      "metadata": {
        "id": "wYSCvxIvsmPR",
        "colab_type": "code",
        "outputId": "8cf57264-b3dd-4a3b-d590-df34b344f848",
        "colab": {
          "base_uri": "https://localhost:8080/",
          "height": 34
        }
      },
      "source": [
        "ti = input(prompt='単語を入力してください',)"
      ],
      "execution_count": 0,
      "outputs": [
        {
          "output_type": "stream",
          "text": [
            "単語を入力してくださいhii\n"
          ],
          "name": "stdout"
        }
      ]
    },
    {
      "cell_type": "markdown",
      "metadata": {
        "id": "dw6YBPI-7vde",
        "colab_type": "text"
      },
      "source": [
        "単語の文字数を表す下線を引く。"
      ]
    },
    {
      "cell_type": "code",
      "metadata": {
        "id": "7NrEHT37wnRQ",
        "colab_type": "code",
        "outputId": "205246bb-9571-4f4e-c711-cefcb61d8645",
        "colab": {
          "base_uri": "https://localhost:8080/",
          "height": 34
        }
      },
      "source": [
        "chang=len(ti)\n",
        "chang_a=\"_\"*chang\n",
        "print(chang_a)"
      ],
      "execution_count": 0,
      "outputs": [
        {
          "output_type": "stream",
          "text": [
            "___\n"
          ],
          "name": "stdout"
        }
      ]
    },
    {
      "cell_type": "markdown",
      "metadata": {
        "id": "k8Zt4TAN8Hf5",
        "colab_type": "text"
      },
      "source": [
        "答えリストを生成する。"
      ]
    },
    {
      "cell_type": "code",
      "metadata": {
        "id": "I9KzoUPl1bn0",
        "colab_type": "code",
        "outputId": "246f8660-f2cf-4e4d-fcf5-78fc9f0e0851",
        "colab": {
          "base_uri": "https://localhost:8080/",
          "height": 34
        }
      },
      "source": [
        "ti_list=[]\n",
        "for x in ti:\n",
        "  ti_list.append(x)\n",
        "print(ti_list)"
      ],
      "execution_count": 0,
      "outputs": [
        {
          "output_type": "stream",
          "text": [
            "['h', 'i', 'i']\n"
          ],
          "name": "stdout"
        }
      ]
    },
    {
      "cell_type": "markdown",
      "metadata": {
        "id": "3MiBTa5d8mwA",
        "colab_type": "text"
      },
      "source": [
        "タイトルリストを生成する。"
      ]
    },
    {
      "cell_type": "code",
      "metadata": {
        "id": "CAoHnF9_36Me",
        "colab_type": "code",
        "outputId": "256a04be-1836-47a3-cf03-441803b62211",
        "colab": {
          "base_uri": "https://localhost:8080/",
          "height": 34
        }
      },
      "source": [
        "chang_list=[]\n",
        "for y in chang_a:\n",
        "  chang_list.append(y)\n",
        "print(chang_list)"
      ],
      "execution_count": 0,
      "outputs": [
        {
          "output_type": "stream",
          "text": [
            "['_', '_', '_']\n"
          ],
          "name": "stdout"
        }
      ]
    },
    {
      "cell_type": "markdown",
      "metadata": {
        "id": "z43rtmYfDVCz",
        "colab_type": "text"
      },
      "source": [
        "出題者は絞首刑台を描く準備する。"
      ]
    },
    {
      "cell_type": "code",
      "metadata": {
        "id": "keFDmz0IDv5U",
        "colab_type": "code",
        "colab": {}
      },
      "source": [
        "jiao=12\n",
        "kaishi=0\n",
        "def jianyi(a):\n",
        "  kaishi=a+1\n",
        "  return(a+1)"
      ],
      "execution_count": 0,
      "outputs": []
    },
    {
      "cell_type": "markdown",
      "metadata": {
        "id": "1yk_dhTK605Z",
        "colab_type": "text"
      },
      "source": [
        "2.解答者がクイズを解く"
      ]
    },
    {
      "cell_type": "code",
      "metadata": {
        "id": "nQMA8oE75FBq",
        "colab_type": "code",
        "outputId": "91427857-34e5-48de-8059-78d7e7daa3f0",
        "colab": {
          "base_uri": "https://localhost:8080/",
          "height": 34
        }
      },
      "source": [
        "caiti=input(prompt='文字(英語)を入力してください',)"
      ],
      "execution_count": 0,
      "outputs": [
        {
          "output_type": "stream",
          "text": [
            "文字(英語)を入力してくださいh\n"
          ],
          "name": "stdout"
        }
      ]
    },
    {
      "cell_type": "markdown",
      "metadata": {
        "id": "Y2ZW06zdAiac",
        "colab_type": "text"
      },
      "source": [
        "3.この文字がタイトルに存在するかどうかを判断する。"
      ]
    },
    {
      "cell_type": "code",
      "metadata": {
        "id": "zg6YUIjP5-q6",
        "colab_type": "code",
        "outputId": "185ead57-7b0c-4cc7-b020-b24505c34a61",
        "colab": {
          "base_uri": "https://localhost:8080/",
          "height": 85
        }
      },
      "source": [
        "\n",
        "if kaishi < jiao:\n",
        "  if caiti in ti_list:\n",
        "    if chang_list == ti_list:\n",
        "      print(\"勝った\")\n",
        "    for index,value in enumerate(ti_list):\n",
        "      if value==caiti:\n",
        "        chang_list[index]=caiti\n",
        "        print (chang_list)\n",
        "        print(kaishi,\"まだ\",jiao-kaishi,\"回のチャンスがある\")\n",
        "  else:\n",
        "    kaishi=jianyi(kaishi)\n",
        "    print(\"×\")\n",
        "    print(chang_list)\n",
        "    print(kaishi,\"まだ\",jiao-kaishi,\"回のチャンスがある\")\n",
        "elif kaishi==jiao:\n",
        "  print(\"負けた\")\n",
        "  print(chang_list)\n",
        "  print(ti_list)\n",
        "else:\n",
        "  print(\"間違いがあります。\")\n"
      ],
      "execution_count": 0,
      "outputs": [
        {
          "output_type": "stream",
          "text": [
            "勝った\n",
            "['h', 'i', 'i']\n",
            "['h', 'i', 'i']\n",
            "0 まだ 12 回のチャンスがある\n"
          ],
          "name": "stdout"
        }
      ]
    },
    {
      "cell_type": "markdown",
      "metadata": {
        "id": "Li8DFvZxMBgM",
        "colab_type": "text"
      },
      "source": [
        "4.勝敗が決まるまで2.3.を繰り返す。"
      ]
    }
  ]
}